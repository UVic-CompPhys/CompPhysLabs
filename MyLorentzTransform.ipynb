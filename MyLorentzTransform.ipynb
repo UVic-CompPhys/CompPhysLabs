{
 "cells": [
  {
   "cell_type": "markdown",
   "metadata": {},
   "source": [
    "### This notebook demonstrates how to do symbolic and numeric Lorentz transformations of 4-tensors"
   ]
  },
  {
   "cell_type": "code",
   "execution_count": 1,
   "metadata": {
    "collapsed": false
   },
   "outputs": [],
   "source": [
    "# setting up the stage\n",
    "\n",
    "from sympy.tensor.tensor import TensorIndexType, tensor_indices, tensorhead, TensorManager\n",
    "from sympy import symbols, sqrt, simplify, init_printing, Order, oo, series\n",
    "from sympy.matrices import eye\n",
    "\n",
    "import numpy as np\n",
    "import matplotlib.pyplot as plt\n",
    "import scipy.constants as sc\n",
    "from scipy.integrate import dblquad, nquad, simps\n",
    "from scipy import interpolate\n",
    "from mpl_toolkits.mplot3d import axes3d\n",
    "\n",
    "fsize=20\n",
    "plt.rcParams['font.size'] = 14\n",
    "plt.rcParams['font.family'] = 'serif'\n",
    "\n",
    "# begin counting figures\n",
    "ifig=0\n",
    "for i in range(0,10000):\n",
    "    plt.close(i)\n",
    "\n",
    "def select_fig(ifig,close_fig=True):\n",
    "    if close_fig:\n",
    "        plt.close(ifig)\n",
    "    plt.figure(ifig)\n",
    "\n",
    "init_printing(pretty_print=True)"
   ]
  },
  {
   "cell_type": "code",
   "execution_count": 2,
   "metadata": {
    "collapsed": false
   },
   "outputs": [
    {
     "data": {
      "text/plain": [
       "array([[1, 0, 0, 0],\n",
       "       [0, -1, 0, 0],\n",
       "       [0, 0, -1, 0],\n",
       "       [0, 0, 0, -1]], dtype=object)"
      ]
     },
     "execution_count": 2,
     "metadata": {},
     "output_type": "execute_result"
    }
   ],
   "source": [
    "# defining a Lorentz-type tensor\n",
    "TensorManager.clear()\n",
    "Lorentz = TensorIndexType('Lorentz', dummy_fmt='L')\n",
    "Lorentz.data = [1, -1, -1, -1]\n",
    "TensorIndexType(Lorentz, 0)\n",
    "Lorentz.data"
   ]
  },
  {
   "cell_type": "code",
   "execution_count": 3,
   "metadata": {
    "collapsed": true
   },
   "outputs": [],
   "source": [
    "# tensor indices; do not use them as loop variables!!!\n",
    "i, j, k, l = tensor_indices('i:4', Lorentz)  "
   ]
  },
  {
   "cell_type": "code",
   "execution_count": 4,
   "metadata": {
    "collapsed": false
   },
   "outputs": [],
   "source": [
    "c = symbols('c', positive=True)  # the speed of light in vacuum\n",
    "\n",
    "g, vx, vy, vz, v, bx, by, bz, b = symbols('gamma v_x v_y v_z v beta_x beta_y beta_z beta')\n",
    "\n",
    "v = sqrt(vx**2+vy**2+vz**2)  # boost velocity\n",
    "g = 1/sqrt(1-(vx**2+vy**2+vz**2)/c**2)  # Lorentz gamma factor\n",
    "bx = vx/c; by = vy/c; bz = vz/c  # Cartesian projections of Lorentz beta"
   ]
  },
  {
   "cell_type": "code",
   "execution_count": 5,
   "metadata": {
    "collapsed": false
   },
   "outputs": [],
   "source": [
    "# Lorentz transformation tensor \n",
    "L = tensorhead('L', [Lorentz, Lorentz], [[1],[1]])\n",
    "\n",
    "L(i,j).data = [[g, g*bx, g*by, g*bz],\\\n",
    "               [g*bx, 1+(g-1)*vx**2/v**2,(g-1)*vx*vy/v**2, (g-1)*vx*vz/v**2],\\\n",
    "               [g*by, (g-1)*vx*vy/v**2, 1+(g-1)*vy**2/v**2, (g-1.)*vy*vz/v**2],\\\n",
    "               [g*bz, (g-1)*vx*vz/v**2, (g-1)*vy*vz/v**2, 1+(g-1)*vz**2/v**2]]"
   ]
  },
  {
   "cell_type": "code",
   "execution_count": 6,
   "metadata": {
    "collapsed": false
   },
   "outputs": [
    {
     "name": "stdout",
     "output_type": "stream",
     "text": [
      "Are LM1 and LM2 equal matrices?\n",
      "This is True !\n",
      "The product of LM and LM1 is\n",
      "Matrix([\n",
      "[1, 0, 0, 0],\n",
      "[0, 1, 0, 0],\n",
      "[0, 0, 1, 0],\n",
      "[0, 0, 0, 1]])\n"
     ]
    }
   ],
   "source": [
    "LM = L(i,j).get_matrix()  # Lorentz transformation matrix\n",
    "LM1 = L(-i,-j).get_matrix()  # inverse Lorentz matrix\n",
    "LM2 = LM.subs({vx:-vx, vy:-vy, vz:-vz})  # this is also inverse Lorentz matrix\n",
    "\n",
    "# check if it's true\n",
    "\n",
    "print \"Are LM1 and LM2 equal matrices?\\n\", \"This is\", (LM1 == LM2), \"!\"\n",
    "\n",
    "print \"The product of LM and LM1 is\\n\", simplify(LM*LM1)"
   ]
  },
  {
   "cell_type": "code",
   "execution_count": 9,
   "metadata": {
    "collapsed": false
   },
   "outputs": [
    {
     "data": {
      "image/png": "[encoded data removed]",
      "text/latex": [
       "$$\\left[\\begin{matrix}1 & 0 & 0 & 0\\\\0 & 1 & 0 & 0\\\\0 & 0 & 1 & 0\\\\0 & 0 & 0 & 1\\end{matrix}\\right]$$"
      ],
      "text/plain": [
       "⎡1  0  0  0⎤\n",
       "⎢          ⎥\n",
       "⎢0  1  0  0⎥\n",
       "⎢          ⎥\n",
       "⎢0  0  1  0⎥\n",
       "⎢          ⎥\n",
       "⎣0  0  0  1⎦"
      ]
     },
     "execution_count": 9,
     "metadata": {},
     "output_type": "execute_result"
    }
   ],
   "source": [
    "delta = eye(4)  # Kronecker delta as matrix\n",
    "delta"
   ]
  },
  {
   "cell_type": "code",
   "execution_count": 10,
   "metadata": {
    "collapsed": false
   },
   "outputs": [
    {
     "data": {
      "text/plain": [
       "matrix([[1, 0, 0, 0],\n",
       "        [0, -1, 0, 0],\n",
       "        [0, 0, -1, 0],\n",
       "        [0, 0, 0, -1]], dtype=object)"
      ]
     },
     "execution_count": 10,
     "metadata": {},
     "output_type": "execute_result"
    }
   ],
   "source": [
    "eta = np.asmatrix(Lorentz.data)  # Minkowski metric tensor as matrix\n",
    "eta"
   ]
  },
  {
   "cell_type": "code",
   "execution_count": 11,
   "metadata": {
    "collapsed": false
   },
   "outputs": [
    {
     "name": "stdout",
     "output_type": "stream",
     "text": [
      "[ct x y z]\n",
      "[ct -x -y -z]\n",
      "Matrix([[ct], [x], [y], [z]])\n",
      "Matrix([[ct], [-x], [-y], [-z]])\n"
     ]
    }
   ],
   "source": [
    "# 4-radius vector\n",
    "xt = tensorhead('xt', [Lorentz], [[1]])\n",
    "t, x0, x1, x2, x3, V = symbols('t ct x y z V', positive=True)\n",
    "xt.data = [x0, x1, x2, x3]\n",
    "\n",
    "print xt(i).data  # its contravariant components\n",
    "print xt(-i).data  # its covariant components\n",
    "\n",
    "x_umu = xt(i).get_matrix()  # umu stands for upper mu\n",
    "print x_umu\n",
    "\n",
    "x_lmu = xt(-i).get_matrix()  # lmu stands for lower mu\n",
    "print x_lmu"
   ]
  },
  {
   "cell_type": "markdown",
   "metadata": {},
   "source": [
    "Time transformation for parallel ($X=X'$, $\\mathbf{V}=V\\mathbf{e}_x$) motion."
   ]
  },
  {
   "cell_type": "code",
   "execution_count": 12,
   "metadata": {
    "collapsed": false
   },
   "outputs": [
    {
     "data": {
      "image/png": "[encoded data removed]",
      "text/latex": [
       "$$\\frac{V x}{c \\sqrt{- \\frac{V^{2}}{c^{2}} + 1}} + \\frac{ct}{\\sqrt{- \\frac{V^{2}}{c^{2}} + 1}}$$"
      ],
      "text/plain": [
       "       V⋅x                  ct       \n",
       "────────────────── + ────────────────\n",
       "        __________         __________\n",
       "       ╱    2             ╱    2     \n",
       "      ╱    V             ╱    V      \n",
       "c⋅   ╱   - ── + 1       ╱   - ── + 1 \n",
       "    ╱       2          ╱       2     \n",
       "  ╲╱       c         ╲╱       c      "
      ]
     },
     "execution_count": 12,
     "metadata": {},
     "output_type": "execute_result"
    }
   ],
   "source": [
    "ctp=((LM*x_umu).subs({vx:V, vy:0, vz:0})[0])  # time transformation for parallel motion\n",
    "ctp"
   ]
  },
  {
   "cell_type": "markdown",
   "metadata": {},
   "source": [
    "### Make a plot showing Earth time $t$ as a function of $\\beta$ for a given travel time $\\tau$\n",
    "\n",
    "$$ t = \\frac{\\tau}{\\sqrt{1-\\beta^2}}.$$"
   ]
  },
  {
   "cell_type": "code",
   "execution_count": 13,
   "metadata": {
    "collapsed": false
   },
   "outputs": [
    {
     "data": {
      "image/png": "[encoded data removed]",
      "text/plain": [
       "<matplotlib.figure.Figure at 0x111a63810>"
      ]
     },
     "metadata": {},
     "output_type": "display_data"
    }
   ],
   "source": [
    "travel_time = 10  # light years (ly)\n",
    "earth_time = ctp.subs({x0:travel_time, x1:0})\n",
    "\n",
    "nb = 1000\n",
    "beta_max = 0.999\n",
    "beta = np.linspace(0,beta_max,nb)\n",
    "t_plot = np.linspace(0,0,nb)\n",
    "for n in range(nb):\n",
    "    t_plot[n] = earth_time.subs({V:beta[n]*c})\n",
    "    t_plot[n] = np.log10(t_plot[n])\n",
    "    \n",
    "ifig=ifig+1\n",
    "plt.close(ifig),select_fig(ifig)\n",
    "plt.plot(beta,t_plot,'r')\n",
    "plt.xlabel(\"$\\\\beta$\",fontsize=fsize)\n",
    "plt.ylabel(\"$\\log_{10}\\,t\\ (\\mathrm{ly}$)\",fontsize=fsize)\n",
    "plt.title(\"Earth time for \"+str(travel_time)+\" ly of travel time\",fontsize=14)\n",
    "plt.grid()\n",
    "plt.show()"
   ]
  },
  {
   "cell_type": "markdown",
   "metadata": {},
   "source": [
    "### Check that the interval remains invariant in the Lorentz transformations ($s^2 = s'^2$?)\n",
    "\n",
    "Lorentz transformations of contravariant components of a 4-radius vector:\n",
    "\n",
    "$$ x^{\\mu} = \\Lambda^{\\mu}_{\\ \\nu'}\\,{x'}^{\\nu'}. $$\n",
    "Dot product of original 4-radius vector:\n",
    "\n",
    "$$ s^2 = x^{\\mu} x_{\\mu} = x^{\\mu} \\eta_{\\mu\\nu}\\,x^{\\nu}.$$"
   ]
  },
  {
   "cell_type": "code",
   "execution_count": 14,
   "metadata": {
    "collapsed": false
   },
   "outputs": [
    {
     "name": "stdout",
     "output_type": "stream",
     "text": [
      "s2 = Matrix([[ct**2 - x**2 - y**2 - z**2]])\n",
      "sp2 = Matrix([[1.0*ct**2 - 1.0*x**2 - 1.0*y**2 - 1.0*z**2]])\n"
     ]
    }
   ],
   "source": [
    "# in expression xp_umu p stands for prime and umu for upper mu\n",
    "\n",
    "xp_umu = LM*x_umu  # Lorentz transformations of contravariant components of 4-radius vector\n",
    "\n",
    "s2 = x_umu.transpose()*(eta*x_umu)  # dot product of original 4-radius vector\n",
    "print \"s2 =\", s2\n",
    "\n",
    "sp2 = simplify(xp_umu.transpose()*(eta*xp_umu))  # dot product of transformed 4-radius vector\n",
    "print \"sp2 =\", sp2"
   ]
  },
  {
   "cell_type": "markdown",
   "metadata": {},
   "source": [
    "Let's demonstrate that $\\eta_{\\mu\\nu}\\Lambda^\\nu_{\\ \\alpha'}\\eta^{{\\alpha'}{\\beta'}} = \n",
    "((\\Lambda^{-1})^\\mathrm{T}) = \\Lambda^{-1}$."
   ]
  },
  {
   "cell_type": "code",
   "execution_count": 15,
   "metadata": {
    "collapsed": false
   },
   "outputs": [
    {
     "name": "stdout",
     "output_type": "stream",
     "text": [
      "True\n",
      "True\n"
     ]
    }
   ],
   "source": [
    "print eta*LM*eta == LM1.transpose()\n",
    "print eta*LM*eta == LM1"
   ]
  },
  {
   "cell_type": "code",
   "execution_count": 16,
   "metadata": {
    "collapsed": false
   },
   "outputs": [
    {
     "data": {
      "image/png": "[encoded data removed]",
      "text/latex": [
       "$$\\left[\\begin{matrix}\\frac{c}{\\sqrt{1 - \\frac{1}{c^{2}} \\left(v_{x}^{2} + v_{y}^{2} + v_{z}^{2}\\right)}}\\\\\\frac{v_{x}}{\\sqrt{1 - \\frac{1}{c^{2}} \\left(v_{x}^{2} + v_{y}^{2} + v_{z}^{2}\\right)}}\\\\\\frac{v_{y}}{\\sqrt{1 - \\frac{1}{c^{2}} \\left(v_{x}^{2} + v_{y}^{2} + v_{z}^{2}\\right)}}\\\\\\frac{v_{z}}{\\sqrt{1 - \\frac{1}{c^{2}} \\left(v_{x}^{2} + v_{y}^{2} + v_{z}^{2}\\right)}}\\end{matrix}\\right]$$"
      ],
      "text/plain": [
       "⎡              c              ⎤\n",
       "⎢─────────────────────────────⎥\n",
       "⎢      _______________________⎥\n",
       "⎢     ╱       2      2      2 ⎥\n",
       "⎢    ╱      vₓ  + v_y  + v_z  ⎥\n",
       "⎢   ╱   1 - ───────────────── ⎥\n",
       "⎢  ╱                 2        ⎥\n",
       "⎢╲╱                 c         ⎥\n",
       "⎢                             ⎥\n",
       "⎢              vₓ             ⎥\n",
       "⎢─────────────────────────────⎥\n",
       "⎢      _______________________⎥\n",
       "⎢     ╱       2      2      2 ⎥\n",
       "⎢    ╱      vₓ  + v_y  + v_z  ⎥\n",
       "⎢   ╱   1 - ───────────────── ⎥\n",
       "⎢  ╱                 2        ⎥\n",
       "⎢╲╱                 c         ⎥\n",
       "⎢                             ⎥\n",
       "⎢             v_y             ⎥\n",
       "⎢─────────────────────────────⎥\n",
       "⎢      _______________________⎥\n",
       "⎢     ╱       2      2      2 ⎥\n",
       "⎢    ╱      vₓ  + v_y  + v_z  ⎥\n",
       "⎢   ╱   1 - ───────────────── ⎥\n",
       "⎢  ╱                 2        ⎥\n",
       "⎢╲╱                 c         ⎥\n",
       "⎢                             ⎥\n",
       "⎢             v_z             ⎥\n",
       "⎢─────────────────────────────⎥\n",
       "⎢      _______________________⎥\n",
       "⎢     ╱       2      2      2 ⎥\n",
       "⎢    ╱      vₓ  + v_y  + v_z  ⎥\n",
       "⎢   ╱   1 - ───────────────── ⎥\n",
       "⎢  ╱                 2        ⎥\n",
       "⎣╲╱                 c         ⎦"
      ]
     },
     "execution_count": 16,
     "metadata": {},
     "output_type": "execute_result"
    }
   ],
   "source": [
    "# 4-velocity \n",
    "U = tensorhead('U', [Lorentz], [[1]])\n",
    "U.data = [c, vx, vy, vz]\n",
    "\n",
    "U_umu = g*U(i).get_matrix()  # recall that g is gamma factor for (vx,vy,vz)\n",
    "U_umu"
   ]
  },
  {
   "cell_type": "code",
   "execution_count": 17,
   "metadata": {
    "collapsed": false
   },
   "outputs": [
    {
     "data": {
      "image/png": "[encoded data removed]",
      "text/latex": [
       "$$\\left[\\begin{matrix}c^{2}\\end{matrix}\\right]$$"
      ],
      "text/plain": [
       "⎡ 2⎤\n",
       "⎣c ⎦"
      ]
     },
     "execution_count": 17,
     "metadata": {},
     "output_type": "execute_result"
    }
   ],
   "source": [
    "simplify(U_umu.transpose()*(eta*U_umu))  # dot product of 4-velocity"
   ]
  },
  {
   "cell_type": "code",
   "execution_count": 18,
   "metadata": {
    "collapsed": false
   },
   "outputs": [
    {
     "data": {
      "image/png": "[encoded data removed]",
      "text/latex": [
       "$$\\left[\\begin{matrix}\\frac{c m}{\\sqrt{1 - \\frac{1}{c^{2}} \\left(v_{x}^{2} + v_{y}^{2} + v_{z}^{2}\\right)}} & \\frac{m v_{x}}{\\sqrt{1 - \\frac{1}{c^{2}} \\left(v_{x}^{2} + v_{y}^{2} + v_{z}^{2}\\right)}} & \\frac{m v_{y}}{\\sqrt{1 - \\frac{1}{c^{2}} \\left(v_{x}^{2} + v_{y}^{2} + v_{z}^{2}\\right)}} & \\frac{m v_{z}}{\\sqrt{1 - \\frac{1}{c^{2}} \\left(v_{x}^{2} + v_{y}^{2} + v_{z}^{2}\\right)}}\\end{matrix}\\right]$$"
      ],
      "text/plain": [
       "⎡             c⋅m                            m⋅vₓ                          m⋅v\n",
       "⎢─────────────────────────────  ─────────────────────────────  ───────────────\n",
       "⎢      _______________________        _______________________        _________\n",
       "⎢     ╱       2      2      2        ╱       2      2      2        ╱       2 \n",
       "⎢    ╱      vₓ  + v_y  + v_z        ╱      vₓ  + v_y  + v_z        ╱      vₓ  \n",
       "⎢   ╱   1 - ─────────────────      ╱   1 - ─────────────────      ╱   1 - ────\n",
       "⎢  ╱                 2            ╱                 2            ╱            \n",
       "⎣╲╱                 c           ╲╱                 c           ╲╱             \n",
       "\n",
       "_y                          m⋅v_z            ⎤\n",
       "──────────────  ─────────────────────────────⎥\n",
       "______________        _______________________⎥\n",
       "     2      2        ╱       2      2      2 ⎥\n",
       "+ v_y  + v_z        ╱      vₓ  + v_y  + v_z  ⎥\n",
       "─────────────      ╱   1 - ───────────────── ⎥\n",
       "     2            ╱                 2        ⎥\n",
       "    c           ╲╱                 c         ⎦"
      ]
     },
     "execution_count": 18,
     "metadata": {},
     "output_type": "execute_result"
    }
   ],
   "source": [
    "m = symbols('m', positive=True)  # particle's rest mass\n",
    "P_umu = m*U_umu  # 4-momentum (energy-momentum)\n",
    "P_umu.transpose()"
   ]
  },
  {
   "cell_type": "code",
   "execution_count": 19,
   "metadata": {
    "collapsed": false
   },
   "outputs": [
    {
     "data": {
      "image/png": "[encoded data removed]",
      "text/latex": [
       "$$\\left[\\begin{matrix}c^{2} m^{2}\\end{matrix}\\right]$$"
      ],
      "text/plain": [
       "⎡ 2  2⎤\n",
       "⎣c ⋅m ⎦"
      ]
     },
     "execution_count": 19,
     "metadata": {},
     "output_type": "execute_result"
    }
   ],
   "source": [
    "simplify(P_umu.transpose()*(eta*P_umu))"
   ]
  },
  {
   "cell_type": "code",
   "execution_count": 20,
   "metadata": {
    "collapsed": false
   },
   "outputs": [
    {
     "data": {
      "image/png": "[encoded data removed]",
      "text/latex": [
       "$$\\left[\\begin{matrix}\\frac{c^{2} m^{2}}{1 - \\frac{1}{c^{2}} \\left(v_{x}^{2} + v_{y}^{2} + v_{z}^{2}\\right)} - \\frac{m^{2} v_{x}^{2}}{1 - \\frac{1}{c^{2}} \\left(v_{x}^{2} + v_{y}^{2} + v_{z}^{2}\\right)} - \\frac{m^{2} v_{y}^{2}}{1 - \\frac{1}{c^{2}} \\left(v_{x}^{2} + v_{y}^{2} + v_{z}^{2}\\right)} - \\frac{m^{2} v_{z}^{2}}{1 - \\frac{1}{c^{2}} \\left(v_{x}^{2} + v_{y}^{2} + v_{z}^{2}\\right)}\\end{matrix}\\right]$$"
      ],
      "text/plain": [
       "⎡         2  2                    2   2                  2    2               \n",
       "⎢        c ⋅m                    m ⋅vₓ                  m ⋅v_y                \n",
       "⎢───────────────────── - ───────────────────── - ───────────────────── - ─────\n",
       "⎢      2      2      2         2      2      2         2      2      2        \n",
       "⎢    vₓ  + v_y  + v_z        vₓ  + v_y  + v_z        vₓ  + v_y  + v_z        v\n",
       "⎢1 - ─────────────────   1 - ─────────────────   1 - ─────────────────   1 - ─\n",
       "⎢             2                       2                       2               \n",
       "⎣            c                       c                       c                \n",
       "\n",
       "   2    2       ⎤\n",
       "  m ⋅v_z        ⎥\n",
       "────────────────⎥\n",
       " 2      2      2⎥\n",
       "ₓ  + v_y  + v_z ⎥\n",
       "────────────────⎥\n",
       "        2       ⎥\n",
       "       c        ⎦"
      ]
     },
     "execution_count": 20,
     "metadata": {},
     "output_type": "execute_result"
    }
   ],
   "source": [
    "P_umu.transpose()*(eta*P_umu)"
   ]
  },
  {
   "cell_type": "code",
   "execution_count": 21,
   "metadata": {
    "collapsed": false
   },
   "outputs": [
    {
     "data": {
      "image/png": "[encoded data removed]",
      "text/latex": [
       "$$E^{2} - p_{x}^{2} - p_{y}^{2} - p_{z}^{2}$$"
      ],
      "text/plain": [
       " 2     2      2      2\n",
       "E  - pₓ  - p_y  - p_z "
      ]
     },
     "execution_count": 21,
     "metadata": {},
     "output_type": "execute_result"
    }
   ],
   "source": [
    "# Energy-momentum tensor\n",
    "P = tensorhead('P', [Lorentz], [[1]])\n",
    "E, px, py, pz = symbols('E p_x p_y p_z', positive=True)\n",
    "P.data = [E, px, py, pz]\n",
    "P**2"
   ]
  },
  {
   "cell_type": "markdown",
   "metadata": {},
   "source": [
    "The following calculations are relevant to the solution of problem 3 from homework assignment 1."
   ]
  },
  {
   "cell_type": "code",
   "execution_count": 22,
   "metadata": {
    "collapsed": false
   },
   "outputs": [],
   "source": [
    "# Cartesian projections of the boost velocity V\n",
    "Vx, Vy, Vz = symbols('V_x V_y V_z', positive=True)\n",
    "LMV = LM.subs({vx:Vx, vy:Vy, vz:Vz})\n",
    "LMV2 = LMV.subs({(Vx**2+Vy**2+Vz**2):V**2})"
   ]
  },
  {
   "cell_type": "code",
   "execution_count": 23,
   "metadata": {
    "collapsed": false
   },
   "outputs": [
    {
     "data": {
      "image/png": "[encoded data removed]",
      "text/latex": [
       "$$\\frac{V_{x} v_{x} + V_{y} v_{y} + V_{z} v_{z} + c^{2}}{\\sqrt{- V^{2} + c^{2}} \\sqrt{c^{2} - v_{x}^{2} - v_{y}^{2} - v_{z}^{2}}}$$"
      ],
      "text/plain": [
       "                                   2      \n",
       "      Vₓ⋅vₓ + V_y⋅v_y + V_z⋅v_z + c       \n",
       "──────────────────────────────────────────\n",
       "   ___________    ________________________\n",
       "  ╱    2    2    ╱  2     2      2      2 \n",
       "╲╱  - V  + c  ⋅╲╱  c  - vₓ  - v_y  - v_z  "
      ]
     },
     "execution_count": 23,
     "metadata": {},
     "output_type": "execute_result"
    }
   ],
   "source": [
    "expr0 = simplify((LMV2*U_umu)[0]/c)  # new gamma\n",
    "expr0"
   ]
  },
  {
   "cell_type": "code",
   "execution_count": 24,
   "metadata": {
    "collapsed": false
   },
   "outputs": [
    {
     "data": {
      "image/png": "[encoded data removed]",
      "text/latex": [
       "$$\\frac{c}{V^{2} \\sqrt{- V^{2} + c^{2}} \\sqrt{c^{2} - v_{x}^{2} - v_{y}^{2} - v_{z}^{2}}} \\left(V^{2} V_{x} c - V_{x} V_{y} v_{y} \\left(- c + \\sqrt{- V^{2} + c^{2}}\\right) - V_{x} V_{z} v_{z} \\left(- c + \\sqrt{- V^{2} + c^{2}}\\right) + v_{x} \\left(V^{2} \\sqrt{- V^{2} + c^{2}} + V_{x}^{2} \\left(c - \\sqrt{- V^{2} + c^{2}}\\right)\\right)\\right)$$"
      ],
      "text/plain": [
       "  ⎛                     ⎛        ___________⎞              ⎛        __________\n",
       "  ⎜ 2                   ⎜       ╱    2    2 ⎟              ⎜       ╱    2    2\n",
       "c⋅⎝V ⋅Vₓ⋅c - Vₓ⋅V_y⋅v_y⋅⎝-c + ╲╱  - V  + c  ⎠ - Vₓ⋅V_z⋅v_z⋅⎝-c + ╲╱  - V  + c \n",
       "──────────────────────────────────────────────────────────────────────────────\n",
       "                                                  ___________    _____________\n",
       "                                             2   ╱    2    2    ╱  2     2    \n",
       "                                            V ⋅╲╱  - V  + c  ⋅╲╱  c  - vₓ  - v\n",
       "\n",
       "_⎞      ⎛      ___________       ⎛       ___________⎞⎞⎞\n",
       " ⎟      ⎜ 2   ╱    2    2      2 ⎜      ╱    2    2 ⎟⎟⎟\n",
       " ⎠ + vₓ⋅⎝V ⋅╲╱  - V  + c   + Vₓ ⋅⎝c - ╲╱  - V  + c  ⎠⎠⎠\n",
       "───────────────────────────────────────────────────────\n",
       "___________                                            \n",
       "  2      2                                             \n",
       "_y  - v_z                                              "
      ]
     },
     "execution_count": 24,
     "metadata": {},
     "output_type": "execute_result"
    }
   ],
   "source": [
    "expr1 = simplify((LMV2*U_umu)[1])  # new velocity x component\n",
    "expr1"
   ]
  },
  {
   "cell_type": "code",
   "execution_count": null,
   "metadata": {
    "collapsed": true
   },
   "outputs": [],
   "source": []
  }
 ],
 "metadata": {
  "anaconda-cloud": {},
  "kernelspec": {
   "display_name": "Python 2",
   "language": "python",
   "name": "python2"
  },
  "language_info": {
   "codemirror_mode": {
    "name": "ipython",
    "version": 2
   },
   "file_extension": ".py",
   "mimetype": "text/x-python",
   "name": "python",
   "nbconvert_exporter": "python",
   "pygments_lexer": "ipython2",
   "version": "2.7.11"
  }
 },
 "nbformat": 4,
 "nbformat_minor": 0
}
